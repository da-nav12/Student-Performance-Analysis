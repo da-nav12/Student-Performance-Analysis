{
 "cells": [
  {
   "cell_type": "markdown",
   "id": "8a29853c",
   "metadata": {},
   "source": [
    "# ETL Part"
   ]
  },
  {
   "cell_type": "code",
   "execution_count": 1,
   "id": "f882b768",
   "metadata": {},
   "outputs": [],
   "source": [
    "\n",
    "from sklearn.preprocessing import LabelEncoder\n",
    "from sklearn.impute import SimpleImputer\n",
    "import pandas as pd"
   ]
  },
  {
   "cell_type": "code",
   "execution_count": 2,
   "id": "c81c47cc",
   "metadata": {},
   "outputs": [],
   "source": [
    "df_raw = pd.read_csv('C:/Users/prana/OneDrive/Desktop/New folder/Zaalima Dev/project1/kafka-student-performance/StudentPerformanceFactors.csv')"
   ]
  },
  {
   "cell_type": "markdown",
   "id": "be24b4f7",
   "metadata": {},
   "source": [
    "##   Extract"
   ]
  },
  {
   "cell_type": "code",
   "execution_count": 3,
   "id": "1857dee0",
   "metadata": {},
   "outputs": [
    {
     "name": "stdout",
     "output_type": "stream",
     "text": [
      "✅ Data Extracted\n",
      "✅Shape of Raw Data: (6607, 20)\n"
     ]
    },
    {
     "data": {
      "application/vnd.microsoft.datawrangler.viewer.v0+json": {
       "columns": [
        {
         "name": "index",
         "rawType": "int64",
         "type": "integer"
        },
        {
         "name": "Hours_Studied",
         "rawType": "int64",
         "type": "integer"
        },
        {
         "name": "Attendance",
         "rawType": "int64",
         "type": "integer"
        },
        {
         "name": "Parental_Involvement",
         "rawType": "object",
         "type": "string"
        },
        {
         "name": "Access_to_Resources",
         "rawType": "object",
         "type": "string"
        },
        {
         "name": "Extracurricular_Activities",
         "rawType": "object",
         "type": "string"
        },
        {
         "name": "Sleep_Hours",
         "rawType": "int64",
         "type": "integer"
        },
        {
         "name": "Previous_Scores",
         "rawType": "int64",
         "type": "integer"
        },
        {
         "name": "Motivation_Level",
         "rawType": "object",
         "type": "string"
        },
        {
         "name": "Internet_Access",
         "rawType": "object",
         "type": "string"
        },
        {
         "name": "Tutoring_Sessions",
         "rawType": "int64",
         "type": "integer"
        },
        {
         "name": "Family_Income",
         "rawType": "object",
         "type": "string"
        },
        {
         "name": "Teacher_Quality",
         "rawType": "object",
         "type": "string"
        },
        {
         "name": "School_Type",
         "rawType": "object",
         "type": "string"
        },
        {
         "name": "Peer_Influence",
         "rawType": "object",
         "type": "string"
        },
        {
         "name": "Physical_Activity",
         "rawType": "int64",
         "type": "integer"
        },
        {
         "name": "Learning_Disabilities",
         "rawType": "object",
         "type": "string"
        },
        {
         "name": "Parental_Education_Level",
         "rawType": "object",
         "type": "string"
        },
        {
         "name": "Distance_from_Home",
         "rawType": "object",
         "type": "string"
        },
        {
         "name": "Gender",
         "rawType": "object",
         "type": "string"
        },
        {
         "name": "Exam_Score",
         "rawType": "int64",
         "type": "integer"
        }
       ],
       "conversionMethod": "pd.DataFrame",
       "ref": "df21c3cd-b0fa-467e-9a29-51ea5306e9db",
       "rows": [
        [
         "0",
         "23",
         "84",
         "Low",
         "High",
         "No",
         "7",
         "73",
         "Low",
         "Yes",
         "0",
         "Low",
         "Medium",
         "Public",
         "Positive",
         "3",
         "No",
         "High School",
         "Near",
         "Male",
         "67"
        ],
        [
         "1",
         "19",
         "64",
         "Low",
         "Medium",
         "No",
         "8",
         "59",
         "Low",
         "Yes",
         "2",
         "Medium",
         "Medium",
         "Public",
         "Negative",
         "4",
         "No",
         "College",
         "Moderate",
         "Female",
         "61"
        ],
        [
         "2",
         "24",
         "98",
         "Medium",
         "Medium",
         "Yes",
         "7",
         "91",
         "Medium",
         "Yes",
         "2",
         "Medium",
         "Medium",
         "Public",
         "Neutral",
         "4",
         "No",
         "Postgraduate",
         "Near",
         "Male",
         "74"
        ],
        [
         "3",
         "29",
         "89",
         "Low",
         "Medium",
         "Yes",
         "8",
         "98",
         "Medium",
         "Yes",
         "1",
         "Medium",
         "Medium",
         "Public",
         "Negative",
         "4",
         "No",
         "High School",
         "Moderate",
         "Male",
         "71"
        ],
        [
         "4",
         "19",
         "92",
         "Medium",
         "Medium",
         "Yes",
         "6",
         "65",
         "Medium",
         "Yes",
         "3",
         "Medium",
         "High",
         "Public",
         "Neutral",
         "4",
         "No",
         "College",
         "Near",
         "Female",
         "70"
        ]
       ],
       "shape": {
        "columns": 20,
        "rows": 5
       }
      },
      "text/html": [
       "<div>\n",
       "<style scoped>\n",
       "    .dataframe tbody tr th:only-of-type {\n",
       "        vertical-align: middle;\n",
       "    }\n",
       "\n",
       "    .dataframe tbody tr th {\n",
       "        vertical-align: top;\n",
       "    }\n",
       "\n",
       "    .dataframe thead th {\n",
       "        text-align: right;\n",
       "    }\n",
       "</style>\n",
       "<table border=\"1\" class=\"dataframe\">\n",
       "  <thead>\n",
       "    <tr style=\"text-align: right;\">\n",
       "      <th></th>\n",
       "      <th>Hours_Studied</th>\n",
       "      <th>Attendance</th>\n",
       "      <th>Parental_Involvement</th>\n",
       "      <th>Access_to_Resources</th>\n",
       "      <th>Extracurricular_Activities</th>\n",
       "      <th>Sleep_Hours</th>\n",
       "      <th>Previous_Scores</th>\n",
       "      <th>Motivation_Level</th>\n",
       "      <th>Internet_Access</th>\n",
       "      <th>Tutoring_Sessions</th>\n",
       "      <th>Family_Income</th>\n",
       "      <th>Teacher_Quality</th>\n",
       "      <th>School_Type</th>\n",
       "      <th>Peer_Influence</th>\n",
       "      <th>Physical_Activity</th>\n",
       "      <th>Learning_Disabilities</th>\n",
       "      <th>Parental_Education_Level</th>\n",
       "      <th>Distance_from_Home</th>\n",
       "      <th>Gender</th>\n",
       "      <th>Exam_Score</th>\n",
       "    </tr>\n",
       "  </thead>\n",
       "  <tbody>\n",
       "    <tr>\n",
       "      <th>0</th>\n",
       "      <td>23</td>\n",
       "      <td>84</td>\n",
       "      <td>Low</td>\n",
       "      <td>High</td>\n",
       "      <td>No</td>\n",
       "      <td>7</td>\n",
       "      <td>73</td>\n",
       "      <td>Low</td>\n",
       "      <td>Yes</td>\n",
       "      <td>0</td>\n",
       "      <td>Low</td>\n",
       "      <td>Medium</td>\n",
       "      <td>Public</td>\n",
       "      <td>Positive</td>\n",
       "      <td>3</td>\n",
       "      <td>No</td>\n",
       "      <td>High School</td>\n",
       "      <td>Near</td>\n",
       "      <td>Male</td>\n",
       "      <td>67</td>\n",
       "    </tr>\n",
       "    <tr>\n",
       "      <th>1</th>\n",
       "      <td>19</td>\n",
       "      <td>64</td>\n",
       "      <td>Low</td>\n",
       "      <td>Medium</td>\n",
       "      <td>No</td>\n",
       "      <td>8</td>\n",
       "      <td>59</td>\n",
       "      <td>Low</td>\n",
       "      <td>Yes</td>\n",
       "      <td>2</td>\n",
       "      <td>Medium</td>\n",
       "      <td>Medium</td>\n",
       "      <td>Public</td>\n",
       "      <td>Negative</td>\n",
       "      <td>4</td>\n",
       "      <td>No</td>\n",
       "      <td>College</td>\n",
       "      <td>Moderate</td>\n",
       "      <td>Female</td>\n",
       "      <td>61</td>\n",
       "    </tr>\n",
       "    <tr>\n",
       "      <th>2</th>\n",
       "      <td>24</td>\n",
       "      <td>98</td>\n",
       "      <td>Medium</td>\n",
       "      <td>Medium</td>\n",
       "      <td>Yes</td>\n",
       "      <td>7</td>\n",
       "      <td>91</td>\n",
       "      <td>Medium</td>\n",
       "      <td>Yes</td>\n",
       "      <td>2</td>\n",
       "      <td>Medium</td>\n",
       "      <td>Medium</td>\n",
       "      <td>Public</td>\n",
       "      <td>Neutral</td>\n",
       "      <td>4</td>\n",
       "      <td>No</td>\n",
       "      <td>Postgraduate</td>\n",
       "      <td>Near</td>\n",
       "      <td>Male</td>\n",
       "      <td>74</td>\n",
       "    </tr>\n",
       "    <tr>\n",
       "      <th>3</th>\n",
       "      <td>29</td>\n",
       "      <td>89</td>\n",
       "      <td>Low</td>\n",
       "      <td>Medium</td>\n",
       "      <td>Yes</td>\n",
       "      <td>8</td>\n",
       "      <td>98</td>\n",
       "      <td>Medium</td>\n",
       "      <td>Yes</td>\n",
       "      <td>1</td>\n",
       "      <td>Medium</td>\n",
       "      <td>Medium</td>\n",
       "      <td>Public</td>\n",
       "      <td>Negative</td>\n",
       "      <td>4</td>\n",
       "      <td>No</td>\n",
       "      <td>High School</td>\n",
       "      <td>Moderate</td>\n",
       "      <td>Male</td>\n",
       "      <td>71</td>\n",
       "    </tr>\n",
       "    <tr>\n",
       "      <th>4</th>\n",
       "      <td>19</td>\n",
       "      <td>92</td>\n",
       "      <td>Medium</td>\n",
       "      <td>Medium</td>\n",
       "      <td>Yes</td>\n",
       "      <td>6</td>\n",
       "      <td>65</td>\n",
       "      <td>Medium</td>\n",
       "      <td>Yes</td>\n",
       "      <td>3</td>\n",
       "      <td>Medium</td>\n",
       "      <td>High</td>\n",
       "      <td>Public</td>\n",
       "      <td>Neutral</td>\n",
       "      <td>4</td>\n",
       "      <td>No</td>\n",
       "      <td>College</td>\n",
       "      <td>Near</td>\n",
       "      <td>Female</td>\n",
       "      <td>70</td>\n",
       "    </tr>\n",
       "  </tbody>\n",
       "</table>\n",
       "</div>"
      ],
      "text/plain": [
       "   Hours_Studied  Attendance Parental_Involvement Access_to_Resources  \\\n",
       "0             23          84                  Low                High   \n",
       "1             19          64                  Low              Medium   \n",
       "2             24          98               Medium              Medium   \n",
       "3             29          89                  Low              Medium   \n",
       "4             19          92               Medium              Medium   \n",
       "\n",
       "  Extracurricular_Activities  Sleep_Hours  Previous_Scores Motivation_Level  \\\n",
       "0                         No            7               73              Low   \n",
       "1                         No            8               59              Low   \n",
       "2                        Yes            7               91           Medium   \n",
       "3                        Yes            8               98           Medium   \n",
       "4                        Yes            6               65           Medium   \n",
       "\n",
       "  Internet_Access  Tutoring_Sessions Family_Income Teacher_Quality  \\\n",
       "0             Yes                  0           Low          Medium   \n",
       "1             Yes                  2        Medium          Medium   \n",
       "2             Yes                  2        Medium          Medium   \n",
       "3             Yes                  1        Medium          Medium   \n",
       "4             Yes                  3        Medium            High   \n",
       "\n",
       "  School_Type Peer_Influence  Physical_Activity Learning_Disabilities  \\\n",
       "0      Public       Positive                  3                    No   \n",
       "1      Public       Negative                  4                    No   \n",
       "2      Public        Neutral                  4                    No   \n",
       "3      Public       Negative                  4                    No   \n",
       "4      Public        Neutral                  4                    No   \n",
       "\n",
       "  Parental_Education_Level Distance_from_Home  Gender  Exam_Score  \n",
       "0              High School               Near    Male          67  \n",
       "1                  College           Moderate  Female          61  \n",
       "2             Postgraduate               Near    Male          74  \n",
       "3              High School           Moderate    Male          71  \n",
       "4                  College               Near  Female          70  "
      ]
     },
     "metadata": {},
     "output_type": "display_data"
    }
   ],
   "source": [
    "print(\"✅ Data Extracted\")\n",
    "print(\"✅Shape of Raw Data:\", df_raw.shape)\n",
    "display(df_raw.head())"
   ]
  },
  {
   "cell_type": "markdown",
   "id": "c7a83750",
   "metadata": {},
   "source": [
    "## === 🔁 TRANSFORM ==="
   ]
  },
  {
   "cell_type": "code",
   "execution_count": 4,
   "id": "0c8056a8",
   "metadata": {},
   "outputs": [
    {
     "name": "stdout",
     "output_type": "stream",
     "text": [
      " Numerical Columns: ['Hours_Studied', 'Attendance', 'Sleep_Hours', 'Previous_Scores', 'Tutoring_Sessions', 'Physical_Activity', 'Exam_Score']\n"
     ]
    }
   ],
   "source": [
    "# Separate numerical columns\n",
    "num_cols = df_raw.select_dtypes(include=['int64', 'float64']).columns\n",
    "print(\" Numerical Columns:\", list(num_cols))\n"
   ]
  },
  {
   "cell_type": "code",
   "execution_count": 5,
   "id": "6d5aff29",
   "metadata": {},
   "outputs": [
    {
     "name": "stdout",
     "output_type": "stream",
     "text": [
      "Categorical Columns: ['Parental_Involvement', 'Access_to_Resources', 'Extracurricular_Activities', 'Motivation_Level', 'Internet_Access', 'Family_Income', 'Teacher_Quality', 'School_Type', 'Peer_Influence', 'Learning_Disabilities', 'Parental_Education_Level', 'Distance_from_Home', 'Gender']\n"
     ]
    }
   ],
   "source": [
    "# Separate categorical columns\n",
    "cat_cols = df_raw.select_dtypes(include='object').columns\n",
    "print(\"Categorical Columns:\", list(cat_cols))"
   ]
  },
  {
   "cell_type": "code",
   "execution_count": 6,
   "id": "b59e1a19",
   "metadata": {},
   "outputs": [
    {
     "name": "stdout",
     "output_type": "stream",
     "text": [
      "✅ Missing values handled\n",
      "Hours_Studied                 0\n",
      "Attendance                    0\n",
      "Parental_Involvement          0\n",
      "Access_to_Resources           0\n",
      "Extracurricular_Activities    0\n",
      "Sleep_Hours                   0\n",
      "Previous_Scores               0\n",
      "Motivation_Level              0\n",
      "Internet_Access               0\n",
      "Tutoring_Sessions             0\n",
      "Family_Income                 0\n",
      "Teacher_Quality               0\n",
      "School_Type                   0\n",
      "Peer_Influence                0\n",
      "Physical_Activity             0\n",
      "Learning_Disabilities         0\n",
      "Parental_Education_Level      0\n",
      "Distance_from_Home            0\n",
      "Gender                        0\n",
      "Exam_Score                    0\n",
      "dtype: int64\n"
     ]
    }
   ],
   "source": [
    "# Handle Missing Values\n",
    "\n",
    "# Imputer for numeric columns (use mean)\n",
    "imputer_num = SimpleImputer(strategy='mean')\n",
    "df_raw[num_cols] = imputer_num.fit_transform(df_raw[num_cols])\n",
    "\n",
    "# Imputer for categorical columns (use most frequent)\n",
    "imputer_cat = SimpleImputer(strategy='most_frequent')\n",
    "df_raw[cat_cols] = imputer_cat.fit_transform(df_raw[cat_cols])\n",
    "\n",
    "print(\"✅ Missing values handled\")\n",
    "print(df_raw.isnull().sum())\n"
   ]
  },
  {
   "cell_type": "code",
   "execution_count": 7,
   "id": "732f1760",
   "metadata": {},
   "outputs": [
    {
     "name": "stdout",
     "output_type": "stream",
     "text": [
      "✅ Categorical columns encoded\n"
     ]
    },
    {
     "data": {
      "application/vnd.microsoft.datawrangler.viewer.v0+json": {
       "columns": [
        {
         "name": "index",
         "rawType": "int64",
         "type": "integer"
        },
        {
         "name": "Hours_Studied",
         "rawType": "float64",
         "type": "float"
        },
        {
         "name": "Attendance",
         "rawType": "float64",
         "type": "float"
        },
        {
         "name": "Parental_Involvement",
         "rawType": "int64",
         "type": "integer"
        },
        {
         "name": "Access_to_Resources",
         "rawType": "int64",
         "type": "integer"
        },
        {
         "name": "Extracurricular_Activities",
         "rawType": "int64",
         "type": "integer"
        },
        {
         "name": "Sleep_Hours",
         "rawType": "float64",
         "type": "float"
        },
        {
         "name": "Previous_Scores",
         "rawType": "float64",
         "type": "float"
        },
        {
         "name": "Motivation_Level",
         "rawType": "int64",
         "type": "integer"
        },
        {
         "name": "Internet_Access",
         "rawType": "int64",
         "type": "integer"
        },
        {
         "name": "Tutoring_Sessions",
         "rawType": "float64",
         "type": "float"
        },
        {
         "name": "Family_Income",
         "rawType": "int64",
         "type": "integer"
        },
        {
         "name": "Teacher_Quality",
         "rawType": "int64",
         "type": "integer"
        },
        {
         "name": "School_Type",
         "rawType": "int64",
         "type": "integer"
        },
        {
         "name": "Peer_Influence",
         "rawType": "int64",
         "type": "integer"
        },
        {
         "name": "Physical_Activity",
         "rawType": "float64",
         "type": "float"
        },
        {
         "name": "Learning_Disabilities",
         "rawType": "int64",
         "type": "integer"
        },
        {
         "name": "Parental_Education_Level",
         "rawType": "int64",
         "type": "integer"
        },
        {
         "name": "Distance_from_Home",
         "rawType": "int64",
         "type": "integer"
        },
        {
         "name": "Gender",
         "rawType": "int64",
         "type": "integer"
        },
        {
         "name": "Exam_Score",
         "rawType": "float64",
         "type": "float"
        }
       ],
       "conversionMethod": "pd.DataFrame",
       "ref": "556e94e0-6ee0-41f5-8e12-9713dee8e136",
       "rows": [
        [
         "0",
         "23.0",
         "84.0",
         "1",
         "0",
         "0",
         "7.0",
         "73.0",
         "1",
         "1",
         "0.0",
         "1",
         "2",
         "1",
         "2",
         "3.0",
         "0",
         "1",
         "2",
         "1",
         "67.0"
        ],
        [
         "1",
         "19.0",
         "64.0",
         "1",
         "2",
         "0",
         "8.0",
         "59.0",
         "1",
         "1",
         "2.0",
         "2",
         "2",
         "1",
         "0",
         "4.0",
         "0",
         "0",
         "1",
         "0",
         "61.0"
        ],
        [
         "2",
         "24.0",
         "98.0",
         "2",
         "2",
         "1",
         "7.0",
         "91.0",
         "2",
         "1",
         "2.0",
         "2",
         "2",
         "1",
         "1",
         "4.0",
         "0",
         "2",
         "2",
         "1",
         "74.0"
        ],
        [
         "3",
         "29.0",
         "89.0",
         "1",
         "2",
         "1",
         "8.0",
         "98.0",
         "2",
         "1",
         "1.0",
         "2",
         "2",
         "1",
         "0",
         "4.0",
         "0",
         "1",
         "1",
         "1",
         "71.0"
        ],
        [
         "4",
         "19.0",
         "92.0",
         "2",
         "2",
         "1",
         "6.0",
         "65.0",
         "2",
         "1",
         "3.0",
         "2",
         "0",
         "1",
         "1",
         "4.0",
         "0",
         "0",
         "2",
         "0",
         "70.0"
        ]
       ],
       "shape": {
        "columns": 20,
        "rows": 5
       }
      },
      "text/html": [
       "<div>\n",
       "<style scoped>\n",
       "    .dataframe tbody tr th:only-of-type {\n",
       "        vertical-align: middle;\n",
       "    }\n",
       "\n",
       "    .dataframe tbody tr th {\n",
       "        vertical-align: top;\n",
       "    }\n",
       "\n",
       "    .dataframe thead th {\n",
       "        text-align: right;\n",
       "    }\n",
       "</style>\n",
       "<table border=\"1\" class=\"dataframe\">\n",
       "  <thead>\n",
       "    <tr style=\"text-align: right;\">\n",
       "      <th></th>\n",
       "      <th>Hours_Studied</th>\n",
       "      <th>Attendance</th>\n",
       "      <th>Parental_Involvement</th>\n",
       "      <th>Access_to_Resources</th>\n",
       "      <th>Extracurricular_Activities</th>\n",
       "      <th>Sleep_Hours</th>\n",
       "      <th>Previous_Scores</th>\n",
       "      <th>Motivation_Level</th>\n",
       "      <th>Internet_Access</th>\n",
       "      <th>Tutoring_Sessions</th>\n",
       "      <th>Family_Income</th>\n",
       "      <th>Teacher_Quality</th>\n",
       "      <th>School_Type</th>\n",
       "      <th>Peer_Influence</th>\n",
       "      <th>Physical_Activity</th>\n",
       "      <th>Learning_Disabilities</th>\n",
       "      <th>Parental_Education_Level</th>\n",
       "      <th>Distance_from_Home</th>\n",
       "      <th>Gender</th>\n",
       "      <th>Exam_Score</th>\n",
       "    </tr>\n",
       "  </thead>\n",
       "  <tbody>\n",
       "    <tr>\n",
       "      <th>0</th>\n",
       "      <td>23.0</td>\n",
       "      <td>84.0</td>\n",
       "      <td>1</td>\n",
       "      <td>0</td>\n",
       "      <td>0</td>\n",
       "      <td>7.0</td>\n",
       "      <td>73.0</td>\n",
       "      <td>1</td>\n",
       "      <td>1</td>\n",
       "      <td>0.0</td>\n",
       "      <td>1</td>\n",
       "      <td>2</td>\n",
       "      <td>1</td>\n",
       "      <td>2</td>\n",
       "      <td>3.0</td>\n",
       "      <td>0</td>\n",
       "      <td>1</td>\n",
       "      <td>2</td>\n",
       "      <td>1</td>\n",
       "      <td>67.0</td>\n",
       "    </tr>\n",
       "    <tr>\n",
       "      <th>1</th>\n",
       "      <td>19.0</td>\n",
       "      <td>64.0</td>\n",
       "      <td>1</td>\n",
       "      <td>2</td>\n",
       "      <td>0</td>\n",
       "      <td>8.0</td>\n",
       "      <td>59.0</td>\n",
       "      <td>1</td>\n",
       "      <td>1</td>\n",
       "      <td>2.0</td>\n",
       "      <td>2</td>\n",
       "      <td>2</td>\n",
       "      <td>1</td>\n",
       "      <td>0</td>\n",
       "      <td>4.0</td>\n",
       "      <td>0</td>\n",
       "      <td>0</td>\n",
       "      <td>1</td>\n",
       "      <td>0</td>\n",
       "      <td>61.0</td>\n",
       "    </tr>\n",
       "    <tr>\n",
       "      <th>2</th>\n",
       "      <td>24.0</td>\n",
       "      <td>98.0</td>\n",
       "      <td>2</td>\n",
       "      <td>2</td>\n",
       "      <td>1</td>\n",
       "      <td>7.0</td>\n",
       "      <td>91.0</td>\n",
       "      <td>2</td>\n",
       "      <td>1</td>\n",
       "      <td>2.0</td>\n",
       "      <td>2</td>\n",
       "      <td>2</td>\n",
       "      <td>1</td>\n",
       "      <td>1</td>\n",
       "      <td>4.0</td>\n",
       "      <td>0</td>\n",
       "      <td>2</td>\n",
       "      <td>2</td>\n",
       "      <td>1</td>\n",
       "      <td>74.0</td>\n",
       "    </tr>\n",
       "    <tr>\n",
       "      <th>3</th>\n",
       "      <td>29.0</td>\n",
       "      <td>89.0</td>\n",
       "      <td>1</td>\n",
       "      <td>2</td>\n",
       "      <td>1</td>\n",
       "      <td>8.0</td>\n",
       "      <td>98.0</td>\n",
       "      <td>2</td>\n",
       "      <td>1</td>\n",
       "      <td>1.0</td>\n",
       "      <td>2</td>\n",
       "      <td>2</td>\n",
       "      <td>1</td>\n",
       "      <td>0</td>\n",
       "      <td>4.0</td>\n",
       "      <td>0</td>\n",
       "      <td>1</td>\n",
       "      <td>1</td>\n",
       "      <td>1</td>\n",
       "      <td>71.0</td>\n",
       "    </tr>\n",
       "    <tr>\n",
       "      <th>4</th>\n",
       "      <td>19.0</td>\n",
       "      <td>92.0</td>\n",
       "      <td>2</td>\n",
       "      <td>2</td>\n",
       "      <td>1</td>\n",
       "      <td>6.0</td>\n",
       "      <td>65.0</td>\n",
       "      <td>2</td>\n",
       "      <td>1</td>\n",
       "      <td>3.0</td>\n",
       "      <td>2</td>\n",
       "      <td>0</td>\n",
       "      <td>1</td>\n",
       "      <td>1</td>\n",
       "      <td>4.0</td>\n",
       "      <td>0</td>\n",
       "      <td>0</td>\n",
       "      <td>2</td>\n",
       "      <td>0</td>\n",
       "      <td>70.0</td>\n",
       "    </tr>\n",
       "  </tbody>\n",
       "</table>\n",
       "</div>"
      ],
      "text/plain": [
       "   Hours_Studied  Attendance  Parental_Involvement  Access_to_Resources  \\\n",
       "0           23.0        84.0                     1                    0   \n",
       "1           19.0        64.0                     1                    2   \n",
       "2           24.0        98.0                     2                    2   \n",
       "3           29.0        89.0                     1                    2   \n",
       "4           19.0        92.0                     2                    2   \n",
       "\n",
       "   Extracurricular_Activities  Sleep_Hours  Previous_Scores  Motivation_Level  \\\n",
       "0                           0          7.0             73.0                 1   \n",
       "1                           0          8.0             59.0                 1   \n",
       "2                           1          7.0             91.0                 2   \n",
       "3                           1          8.0             98.0                 2   \n",
       "4                           1          6.0             65.0                 2   \n",
       "\n",
       "   Internet_Access  Tutoring_Sessions  Family_Income  Teacher_Quality  \\\n",
       "0                1                0.0              1                2   \n",
       "1                1                2.0              2                2   \n",
       "2                1                2.0              2                2   \n",
       "3                1                1.0              2                2   \n",
       "4                1                3.0              2                0   \n",
       "\n",
       "   School_Type  Peer_Influence  Physical_Activity  Learning_Disabilities  \\\n",
       "0            1               2                3.0                      0   \n",
       "1            1               0                4.0                      0   \n",
       "2            1               1                4.0                      0   \n",
       "3            1               0                4.0                      0   \n",
       "4            1               1                4.0                      0   \n",
       "\n",
       "   Parental_Education_Level  Distance_from_Home  Gender  Exam_Score  \n",
       "0                         1                   2       1        67.0  \n",
       "1                         0                   1       0        61.0  \n",
       "2                         2                   2       1        74.0  \n",
       "3                         1                   1       1        71.0  \n",
       "4                         0                   2       0        70.0  "
      ]
     },
     "metadata": {},
     "output_type": "display_data"
    }
   ],
   "source": [
    "# Step 3: Encode Categorical Columns using Label Encoding\n",
    "\n",
    "# Initialize label encoder\n",
    "le = LabelEncoder()\n",
    "\n",
    "# Encode each categorical column\n",
    "for col in cat_cols:\n",
    "    df_raw[col] = le.fit_transform(df_raw[col])\n",
    "\n",
    "print(\"✅ Categorical columns encoded\")\n",
    "display(df_raw.head())\n"
   ]
  },
  {
   "cell_type": "code",
   "execution_count": 8,
   "id": "ec1ff4f7",
   "metadata": {},
   "outputs": [
    {
     "name": "stdout",
     "output_type": "stream",
     "text": [
      "✅ Numerical features scaled\n"
     ]
    },
    {
     "data": {
      "application/vnd.microsoft.datawrangler.viewer.v0+json": {
       "columns": [
        {
         "name": "index",
         "rawType": "int64",
         "type": "integer"
        },
        {
         "name": "Hours_Studied",
         "rawType": "float64",
         "type": "float"
        },
        {
         "name": "Attendance",
         "rawType": "float64",
         "type": "float"
        },
        {
         "name": "Sleep_Hours",
         "rawType": "float64",
         "type": "float"
        },
        {
         "name": "Previous_Scores",
         "rawType": "float64",
         "type": "float"
        },
        {
         "name": "Tutoring_Sessions",
         "rawType": "float64",
         "type": "float"
        },
        {
         "name": "Physical_Activity",
         "rawType": "float64",
         "type": "float"
        },
        {
         "name": "Exam_Score",
         "rawType": "float64",
         "type": "float"
        }
       ],
       "conversionMethod": "pd.DataFrame",
       "ref": "a098c251-29c2-416b-a82f-7127f88d6bb0",
       "rows": [
        [
         "0",
         "0.5049415064154527",
         "0.34837540699138664",
         "-0.01979557715729433",
         "-0.14379992882668732",
         "-1.213934457288018",
         "0.03141133078780467",
         "-0.06057824550990011"
        ],
        [
         "1",
         "-0.16282241129609587",
         "-1.3837360532878724",
         "0.6613991013752177",
         "-1.1161102955380136",
         "0.41145108517868284",
         "1.0011994733813825",
         "-1.6029307236752266"
        ],
        [
         "2",
         "0.6718824858433398",
         "1.5608534291868679",
         "-0.01979557715729433",
         "1.1063133998021608",
         "0.41145108517868284",
         "1.0011994733813825",
         "1.7388329790163142"
        ],
        [
         "3",
         "1.5065873829827754",
         "0.7814032720612014",
         "0.6613991013752177",
         "1.5924685831578238",
         "-0.40124168605466753",
         "1.0011994733813825",
         "0.9676567399336509"
        ],
        [
         "4",
         "-0.16282241129609587",
         "1.0412199911030902",
         "-0.7009902556898064",
         "-0.6994058526617309",
         "1.2241438564120333",
         "1.0011994733813825",
         "0.7105979935727631"
        ]
       ],
       "shape": {
        "columns": 7,
        "rows": 5
       }
      },
      "text/html": [
       "<div>\n",
       "<style scoped>\n",
       "    .dataframe tbody tr th:only-of-type {\n",
       "        vertical-align: middle;\n",
       "    }\n",
       "\n",
       "    .dataframe tbody tr th {\n",
       "        vertical-align: top;\n",
       "    }\n",
       "\n",
       "    .dataframe thead th {\n",
       "        text-align: right;\n",
       "    }\n",
       "</style>\n",
       "<table border=\"1\" class=\"dataframe\">\n",
       "  <thead>\n",
       "    <tr style=\"text-align: right;\">\n",
       "      <th></th>\n",
       "      <th>Hours_Studied</th>\n",
       "      <th>Attendance</th>\n",
       "      <th>Sleep_Hours</th>\n",
       "      <th>Previous_Scores</th>\n",
       "      <th>Tutoring_Sessions</th>\n",
       "      <th>Physical_Activity</th>\n",
       "      <th>Exam_Score</th>\n",
       "    </tr>\n",
       "  </thead>\n",
       "  <tbody>\n",
       "    <tr>\n",
       "      <th>0</th>\n",
       "      <td>0.504942</td>\n",
       "      <td>0.348375</td>\n",
       "      <td>-0.019796</td>\n",
       "      <td>-0.143800</td>\n",
       "      <td>-1.213934</td>\n",
       "      <td>0.031411</td>\n",
       "      <td>-0.060578</td>\n",
       "    </tr>\n",
       "    <tr>\n",
       "      <th>1</th>\n",
       "      <td>-0.162822</td>\n",
       "      <td>-1.383736</td>\n",
       "      <td>0.661399</td>\n",
       "      <td>-1.116110</td>\n",
       "      <td>0.411451</td>\n",
       "      <td>1.001199</td>\n",
       "      <td>-1.602931</td>\n",
       "    </tr>\n",
       "    <tr>\n",
       "      <th>2</th>\n",
       "      <td>0.671882</td>\n",
       "      <td>1.560853</td>\n",
       "      <td>-0.019796</td>\n",
       "      <td>1.106313</td>\n",
       "      <td>0.411451</td>\n",
       "      <td>1.001199</td>\n",
       "      <td>1.738833</td>\n",
       "    </tr>\n",
       "    <tr>\n",
       "      <th>3</th>\n",
       "      <td>1.506587</td>\n",
       "      <td>0.781403</td>\n",
       "      <td>0.661399</td>\n",
       "      <td>1.592469</td>\n",
       "      <td>-0.401242</td>\n",
       "      <td>1.001199</td>\n",
       "      <td>0.967657</td>\n",
       "    </tr>\n",
       "    <tr>\n",
       "      <th>4</th>\n",
       "      <td>-0.162822</td>\n",
       "      <td>1.041220</td>\n",
       "      <td>-0.700990</td>\n",
       "      <td>-0.699406</td>\n",
       "      <td>1.224144</td>\n",
       "      <td>1.001199</td>\n",
       "      <td>0.710598</td>\n",
       "    </tr>\n",
       "  </tbody>\n",
       "</table>\n",
       "</div>"
      ],
      "text/plain": [
       "   Hours_Studied  Attendance  Sleep_Hours  Previous_Scores  Tutoring_Sessions  \\\n",
       "0       0.504942    0.348375    -0.019796        -0.143800          -1.213934   \n",
       "1      -0.162822   -1.383736     0.661399        -1.116110           0.411451   \n",
       "2       0.671882    1.560853    -0.019796         1.106313           0.411451   \n",
       "3       1.506587    0.781403     0.661399         1.592469          -0.401242   \n",
       "4      -0.162822    1.041220    -0.700990        -0.699406           1.224144   \n",
       "\n",
       "   Physical_Activity  Exam_Score  \n",
       "0           0.031411   -0.060578  \n",
       "1           1.001199   -1.602931  \n",
       "2           1.001199    1.738833  \n",
       "3           1.001199    0.967657  \n",
       "4           1.001199    0.710598  "
      ]
     },
     "metadata": {},
     "output_type": "display_data"
    }
   ],
   "source": [
    "# Step 4: Scale Numerical Features\n",
    "\n",
    "# Initialize standard scaler\n",
    "from sklearn.preprocessing import StandardScaler\n",
    "\n",
    "scaler = StandardScaler()\n",
    "\n",
    "# Apply scaling\n",
    "df_raw[num_cols] = scaler.fit_transform(df_raw[num_cols])\n",
    "\n",
    "print(\"✅ Numerical features scaled\")\n",
    "display(df_raw[num_cols].head())\n"
   ]
  },
  {
   "cell_type": "markdown",
   "id": "6453fbde",
   "metadata": {},
   "source": [
    "## === 💾 LOAD ==="
   ]
  },
  {
   "cell_type": "code",
   "execution_count": 9,
   "id": "e712a4af",
   "metadata": {},
   "outputs": [
    {
     "name": "stdout",
     "output_type": "stream",
     "text": [
      "✅ Transformed data saved to 'C:/Users/prana/OneDrive/Desktop/New folder/Zaalima Dev/project1/kafka-student-performance/Transformed_StudentPerformance.csv'\n"
     ]
    }
   ],
   "source": [
    "\n",
    "\n",
    "# Save the cleaned/transformed data to a new CSV file\n",
    "output_path = 'C:/Users/prana/OneDrive/Desktop/New folder/Zaalima Dev/project1/kafka-student-performance/Transformed_StudentPerformance.csv'\n",
    "df_raw.to_csv(output_path, index=False)\n",
    "\n",
    "print(f\"✅ Transformed data saved to '{output_path}'\")\n"
   ]
  }
 ],
 "metadata": {
  "kernelspec": {
   "display_name": "Python 3",
   "language": "python",
   "name": "python3"
  },
  "language_info": {
   "codemirror_mode": {
    "name": "ipython",
    "version": 3
   },
   "file_extension": ".py",
   "mimetype": "text/x-python",
   "name": "python",
   "nbconvert_exporter": "python",
   "pygments_lexer": "ipython3",
   "version": "3.13.1"
  }
 },
 "nbformat": 4,
 "nbformat_minor": 5
}
